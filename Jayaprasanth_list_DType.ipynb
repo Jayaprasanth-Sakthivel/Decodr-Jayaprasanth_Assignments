{
 "cells": [
  {
   "cell_type": "markdown",
   "metadata": {
    "id": "7DHlxw7KS4LO"
   },
   "source": [
    "**[Slide No.- 35]**\n",
    "\n",
    "1. Create a empty list and check its Data type "
   ]
  },
  {
   "cell_type": "code",
   "execution_count": 8,
   "metadata": {
    "executionInfo": {
     "elapsed": 3,
     "status": "ok",
     "timestamp": 1624108373661,
     "user": {
      "displayName": "Ankit Chaudhary",
      "photoUrl": "",
      "userId": "09325546582572869584"
     },
     "user_tz": -330
    },
    "id": "9tPdozyQj7cu"
   },
   "outputs": [],
   "source": [
    "List_1=[]"
   ]
  },
  {
   "cell_type": "code",
   "execution_count": 9,
   "metadata": {
    "colab": {
     "base_uri": "https://localhost:8080/"
    },
    "executionInfo": {
     "elapsed": 713,
     "status": "ok",
     "timestamp": 1624108426680,
     "user": {
      "displayName": "Ankit Chaudhary",
      "photoUrl": "",
      "userId": "09325546582572869584"
     },
     "user_tz": -330
    },
    "id": "RtfUHgj5a45J",
    "outputId": "fbfb3e3f-7894-455e-bd53-9d3686b1d0fd"
   },
   "outputs": [
    {
     "data": {
      "text/plain": [
       "list"
      ]
     },
     "execution_count": 9,
     "metadata": {},
     "output_type": "execute_result"
    }
   ],
   "source": [
    "\n",
    "type(List_1)"
   ]
  },
  {
   "cell_type": "markdown",
   "metadata": {
    "id": "4EnsxsI0FPcv"
   },
   "source": []
  },
  {
   "cell_type": "code",
   "execution_count": 11,
   "metadata": {
    "colab": {
     "base_uri": "https://localhost:8080/"
    },
    "executionInfo": {
     "elapsed": 438,
     "status": "ok",
     "timestamp": 1624108493694,
     "user": {
      "displayName": "Ankit Chaudhary",
      "photoUrl": "",
      "userId": "09325546582572869584"
     },
     "user_tz": -330
    },
    "id": "ef5HNtgtSDwz",
    "outputId": "4399bbeb-111f-4717-ada1-a7c059b024d7"
   },
   "outputs": [
    {
     "name": "stdout",
     "output_type": "stream",
     "text": [
      "<class 'list'>\n"
     ]
    }
   ],
   "source": [
    "list_1=[]\n",
    "print(type(list_1))"
   ]
  },
  {
   "cell_type": "markdown",
   "metadata": {
    "id": "KbC4gtb0Wo4u"
   },
   "source": [
    "**[Slide No.- 35]**\n",
    "\n",
    "2. Create a list in which at even places string are present and at odd places integervalue is present and the length of the string is 6."
   ]
  },
  {
   "cell_type": "code",
   "execution_count": 13,
   "metadata": {
    "colab": {
     "base_uri": "https://localhost:8080/"
    },
    "executionInfo": {
     "elapsed": 441,
     "status": "ok",
     "timestamp": 1624108564874,
     "user": {
      "displayName": "Ankit Chaudhary",
      "photoUrl": "",
      "userId": "09325546582572869584"
     },
     "user_tz": -330
    },
    "id": "BzIsIJzXWpMO",
    "outputId": "0b950766-6fd1-42f4-cb5f-7a2196f7a049"
   },
   "outputs": [
    {
     "name": "stdout",
     "output_type": "stream",
     "text": [
      "['a', 2, 'b', 3, 'c', 4]\n"
     ]
    }
   ],
   "source": [
    "list = ['a',2,'b',3,'c',4]\n",
    "print(list)"
   ]
  },
  {
   "cell_type": "markdown",
   "metadata": {
    "id": "NhGbCdSfTFa7"
   },
   "source": [
    "**[Slide No. - 36]**\n",
    "\n",
    "3. Create a lsit which has 6 elements and print last three elements from the list "
   ]
  },
  {
   "cell_type": "code",
   "execution_count": 14,
   "metadata": {
    "colab": {
     "base_uri": "https://localhost:8080/"
    },
    "executionInfo": {
     "elapsed": 392,
     "status": "ok",
     "timestamp": 1624108623170,
     "user": {
      "displayName": "Ankit Chaudhary",
      "photoUrl": "",
      "userId": "09325546582572869584"
     },
     "user_tz": -330
    },
    "id": "SUzgZi8DTF5C",
    "outputId": "bc391463-e39e-496d-93c1-a8de5568e06e"
   },
   "outputs": [
    {
     "data": {
      "text/plain": [
       "[3, 4, 5]"
      ]
     },
     "execution_count": 14,
     "metadata": {},
     "output_type": "execute_result"
    }
   ],
   "source": [
    "list1 = [1,2,3,4,5]\n",
    "list1[-3:]"
   ]
  },
  {
   "cell_type": "markdown",
   "metadata": {
    "id": "3LhHLCB6Tm8K"
   },
   "source": [
    "**[Slide No. - 36 ]**\n",
    "\n",
    "4. What is the output :\n",
    " list = [1,2,3,4,5,6,7] \n",
    " \n",
    " list[:]=?"
   ]
  },
  {
   "cell_type": "code",
   "execution_count": 15,
   "metadata": {
    "colab": {
     "base_uri": "https://localhost:8080/"
    },
    "executionInfo": {
     "elapsed": 711,
     "status": "ok",
     "timestamp": 1624108656694,
     "user": {
      "displayName": "Ankit Chaudhary",
      "photoUrl": "",
      "userId": "09325546582572869584"
     },
     "user_tz": -330
    },
    "id": "zfkX5LLzTnXP",
    "outputId": "60a9ce22-9bfc-4609-e269-74449c516cdd"
   },
   "outputs": [
    {
     "data": {
      "text/plain": [
       "[1, 2, 3, 4, 5, 6, 7]"
      ]
     },
     "execution_count": 15,
     "metadata": {},
     "output_type": "execute_result"
    }
   ],
   "source": [
    "list=[1,2,3,4,5,6,7]\n",
    "list[:]"
   ]
  },
  {
   "cell_type": "markdown",
   "metadata": {
    "id": "93qfPdkuTnfg"
   },
   "source": [
    "**[Slide No. - 36]**\n",
    "\n",
    "5. What is the output : list = [1,2,3,4,5,6,7]\n",
    "\n",
    "Print the even places items from the list."
   ]
  },
  {
   "cell_type": "code",
   "execution_count": 21,
   "metadata": {
    "colab": {
     "base_uri": "https://localhost:8080/"
    },
    "executionInfo": {
     "elapsed": 410,
     "status": "ok",
     "timestamp": 1624108866409,
     "user": {
      "displayName": "Ankit Chaudhary",
      "photoUrl": "",
      "userId": "09325546582572869584"
     },
     "user_tz": -330
    },
    "id": "otaNABAtTnrp",
    "outputId": "d3990212-0843-47c8-b3ee-877e1885babd"
   },
   "outputs": [
    {
     "name": "stdout",
     "output_type": "stream",
     "text": [
      "[2]\n"
     ]
    }
   ],
   "source": [
    "list = [1,2,3,4,5,6,7]\n",
    "print(list[1:2:6])\n"
   ]
  },
  {
   "cell_type": "markdown",
   "metadata": {
    "id": "SdSk9Z-vTn4h"
   },
   "source": [
    "**[Slide No. - 36]**\n",
    "\n",
    "6. What is the output : list = [1,2,3,4,10,11,7]\n",
    "\n",
    "print 10 and 11 item from the list ."
   ]
  },
  {
   "cell_type": "code",
   "execution_count": 22,
   "metadata": {
    "colab": {
     "base_uri": "https://localhost:8080/"
    },
    "executionInfo": {
     "elapsed": 452,
     "status": "ok",
     "timestamp": 1624108789229,
     "user": {
      "displayName": "Ankit Chaudhary",
      "photoUrl": "",
      "userId": "09325546582572869584"
     },
     "user_tz": -330
    },
    "id": "i9rupinIToAR",
    "outputId": "1fa70e20-0748-4519-ee5d-b60fbf586346"
   },
   "outputs": [
    {
     "name": "stdout",
     "output_type": "stream",
     "text": [
      "[10, 11]\n"
     ]
    }
   ],
   "source": [
    "list = [1,2,3,4,10,11,7]\n",
    "print(list[4:6])\n"
   ]
  },
  {
   "cell_type": "code",
   "execution_count": null,
   "metadata": {
    "colab": {
     "base_uri": "https://localhost:8080/"
    },
    "executionInfo": {
     "elapsed": 12,
     "status": "ok",
     "timestamp": 1621689499335,
     "user": {
      "displayName": "Decodr Academy",
      "photoUrl": "",
      "userId": "02634807145547483916"
     },
     "user_tz": 420
    },
    "id": "MwcV2xqgOIb9",
    "outputId": "038e75c3-1912-4ce6-fb61-b3415472221c"
   },
   "outputs": [],
   "source": []
  },
  {
   "cell_type": "markdown",
   "metadata": {
    "id": "jKf-xLTiToHF"
   },
   "source": [
    "**[Slide No. -38]**\n",
    "\n",
    "7.  Delete the 3 index value from the list and the print the list.\n",
    "\n",
    "list = [1, 2, 3, 4, 5, 6]    \n",
    "\n",
    "print(list)    \n",
    "    \n",
    " "
   ]
  },
  {
   "cell_type": "code",
   "execution_count": 23,
   "metadata": {
    "colab": {
     "base_uri": "https://localhost:8080/"
    },
    "executionInfo": {
     "elapsed": 4,
     "status": "ok",
     "timestamp": 1624108953144,
     "user": {
      "displayName": "Ankit Chaudhary",
      "photoUrl": "",
      "userId": "09325546582572869584"
     },
     "user_tz": -330
    },
    "id": "YSwSSoZSToQT",
    "outputId": "ea581dd2-f8f9-4d03-b06c-171cc5c8268e"
   },
   "outputs": [
    {
     "name": "stdout",
     "output_type": "stream",
     "text": [
      "[1, 2, 3, 5, 6]\n"
     ]
    }
   ],
   "source": [
    "list = [1, 2, 3, 4, 5, 6]\n",
    "del list[3]\n",
    "print(list)\n"
   ]
  },
  {
   "cell_type": "code",
   "execution_count": null,
   "metadata": {
    "colab": {
     "base_uri": "https://localhost:8080/"
    },
    "executionInfo": {
     "elapsed": 899,
     "status": "ok",
     "timestamp": 1621689661691,
     "user": {
      "displayName": "Decodr Academy",
      "photoUrl": "",
      "userId": "02634807145547483916"
     },
     "user_tz": 420
    },
    "id": "mX3qq3_NPGbL",
    "outputId": "196829d8-51cd-41d7-c6f3-391b07ccceb7"
   },
   "outputs": [],
   "source": [
    "\n"
   ]
  },
  {
   "cell_type": "markdown",
   "metadata": {
    "id": "XqIA7Ia9Umga"
   },
   "source": [
    "[Slide No. - 37]\n",
    "8. list = [1, \"a\", 3, 4, 5, 6] \n",
    "\n",
    "replace \"a\" by 2 in the list\n",
    "\n",
    "What is the new list?"
   ]
  },
  {
   "cell_type": "code",
   "execution_count": 24,
   "metadata": {
    "colab": {
     "base_uri": "https://localhost:8080/"
    },
    "executionInfo": {
     "elapsed": 3,
     "status": "ok",
     "timestamp": 1624109019046,
     "user": {
      "displayName": "Ankit Chaudhary",
      "photoUrl": "",
      "userId": "09325546582572869584"
     },
     "user_tz": -330
    },
    "id": "fCgmnwKlUm7K",
    "outputId": "2d3336a9-02fb-41b3-dcae-77b77d366832"
   },
   "outputs": [
    {
     "name": "stdout",
     "output_type": "stream",
     "text": [
      "[1, 2, 3, 4, 5, 6]\n"
     ]
    }
   ],
   "source": [
    "list = [1, \"a\", 3, 4, 5, 6]\n",
    "list[1]=2\n",
    "print(list)"
   ]
  },
  {
   "cell_type": "code",
   "execution_count": null,
   "metadata": {
    "colab": {
     "base_uri": "https://localhost:8080/"
    },
    "executionInfo": {
     "elapsed": 1024,
     "status": "ok",
     "timestamp": 1621690012666,
     "user": {
      "displayName": "Decodr Academy",
      "photoUrl": "",
      "userId": "02634807145547483916"
     },
     "user_tz": 420
    },
    "id": "RGKbvZV9QXqw",
    "outputId": "46e5d011-cf6e-4189-ea49-7fc93a8292a8"
   },
   "outputs": [],
   "source": []
  },
  {
   "cell_type": "markdown",
   "metadata": {
    "id": "PbqBBeiMUnMA"
   },
   "source": [
    "**[Slide No - 37]**\n",
    "\n",
    "9. list = [1, 2, 3, 4, 5, 6] \n",
    "\n",
    "by using neagtive indexing replace 5 by 'e' in the list \n",
    "\n",
    "print(list)"
   ]
  },
  {
   "cell_type": "code",
   "execution_count": 25,
   "metadata": {
    "colab": {
     "base_uri": "https://localhost:8080/"
    },
    "executionInfo": {
     "elapsed": 425,
     "status": "ok",
     "timestamp": 1624109096993,
     "user": {
      "displayName": "Ankit Chaudhary",
      "photoUrl": "",
      "userId": "09325546582572869584"
     },
     "user_tz": -330
    },
    "id": "EsvRWH48UnWJ",
    "outputId": "e1d98c59-9195-4bbe-9a40-e096fe287f67"
   },
   "outputs": [
    {
     "name": "stdout",
     "output_type": "stream",
     "text": [
      "[1, 2, 3, 4, 'e', 6]\n"
     ]
    }
   ],
   "source": [
    "list = [1, 2, 3, 4, 5, 6]\n",
    "list[-2]='e'\n",
    "print(list)\n"
   ]
  },
  {
   "cell_type": "markdown",
   "metadata": {
    "id": "-2YsXQGKVGxY"
   },
   "source": [
    "**[Slide No. - 37]**\n",
    "\n",
    "10. list = [1, 2, 3, 4, 5, 6] \n",
    "\n",
    "replace 1st and 2nd index value by (89,78)\n",
    "\n",
    "print(list) "
   ]
  },
  {
   "cell_type": "code",
   "execution_count": 26,
   "metadata": {
    "colab": {
     "base_uri": "https://localhost:8080/"
    },
    "executionInfo": {
     "elapsed": 395,
     "status": "ok",
     "timestamp": 1624109324939,
     "user": {
      "displayName": "Ankit Chaudhary",
      "photoUrl": "",
      "userId": "09325546582572869584"
     },
     "user_tz": -330
    },
    "id": "G3JxP2ToVGCt",
    "outputId": "5b9b4542-347f-414a-a4b3-0c7d35b25106"
   },
   "outputs": [
    {
     "name": "stdout",
     "output_type": "stream",
     "text": [
      "[1, 89, 78, 4, 5, 6]\n"
     ]
    }
   ],
   "source": [
    "list = [1, 2, 3, 4, 5, 6]\n",
    "list[1]=89\n",
    "list[2]=78\n",
    "print(list)\n",
    "\n"
   ]
  },
  {
   "cell_type": "markdown",
   "metadata": {
    "id": "5PEGDtZgVeTB"
   },
   "source": [
    "**[Slide No. -38]**\n",
    "\n",
    "11. Create a list and delete 2 to 4 index value  from list ?"
   ]
  },
  {
   "cell_type": "code",
   "execution_count": 27,
   "metadata": {
    "colab": {
     "base_uri": "https://localhost:8080/"
    },
    "executionInfo": {
     "elapsed": 427,
     "status": "ok",
     "timestamp": 1624109496622,
     "user": {
      "displayName": "Ankit Chaudhary",
      "photoUrl": "",
      "userId": "09325546582572869584"
     },
     "user_tz": -330
    },
    "id": "tuy0DMDqZ7Ux",
    "outputId": "530c3ed9-5384-4f5c-81e7-3441a7938d6e"
   },
   "outputs": [
    {
     "name": "stdout",
     "output_type": "stream",
     "text": [
      "[1, 2, 6]\n"
     ]
    }
   ],
   "source": [
    "list3=[1,2,3,4,5,6]\n",
    "del list3[2:5]\n",
    "print(list3)"
   ]
  },
  {
   "cell_type": "markdown",
   "metadata": {
    "id": "-OszCxUMZ8GW"
   },
   "source": [
    "**[Slide No.- 39]**\n",
    "\n",
    "12. Rermove Science  item from the list.\n",
    "\n",
    "Subject =['math', 'science', 'hindi', 'SST', 'Sanskrit']\n"
   ]
  },
  {
   "cell_type": "code",
   "execution_count": 28,
   "metadata": {
    "colab": {
     "base_uri": "https://localhost:8080/"
    },
    "executionInfo": {
     "elapsed": 465,
     "status": "ok",
     "timestamp": 1624110108972,
     "user": {
      "displayName": "Ankit Chaudhary",
      "photoUrl": "",
      "userId": "09325546582572869584"
     },
     "user_tz": -330
    },
    "id": "PwSvcAWJVexl",
    "outputId": "d4a9215e-18aa-41da-c6f4-a2e55ccd91ab"
   },
   "outputs": [
    {
     "name": "stdout",
     "output_type": "stream",
     "text": [
      "['math', 'hindi', 'SST', 'Sanskrit']\n"
     ]
    }
   ],
   "source": [
    "Subject =['math', 'science', 'hindi', 'SST', 'Sanskrit']\n",
    "Subject.remove('science')\n",
    "print(Subject)\n"
   ]
  },
  {
   "cell_type": "code",
   "execution_count": null,
   "metadata": {
    "colab": {
     "base_uri": "https://localhost:8080/"
    },
    "executionInfo": {
     "elapsed": 651,
     "status": "ok",
     "timestamp": 1621690737633,
     "user": {
      "displayName": "Decodr Academy",
      "photoUrl": "",
      "userId": "02634807145547483916"
     },
     "user_tz": 420
    },
    "id": "L2loVsc_TFSq",
    "outputId": "97e088dd-e4b5-47f5-ef64-42e024961b0e"
   },
   "outputs": [],
   "source": []
  },
  {
   "cell_type": "code",
   "execution_count": null,
   "metadata": {
    "id": "udi7tJ8kTsuB"
   },
   "outputs": [],
   "source": []
  }
 ],
 "metadata": {
  "colab": {
   "collapsed_sections": [],
   "name": "list_DType.ipynb",
   "provenance": []
  },
  "kernelspec": {
   "display_name": "Python 3",
   "language": "python",
   "name": "python3"
  },
  "language_info": {
   "codemirror_mode": {
    "name": "ipython",
    "version": 3
   },
   "file_extension": ".py",
   "mimetype": "text/x-python",
   "name": "python",
   "nbconvert_exporter": "python",
   "pygments_lexer": "ipython3",
   "version": "3.8.8"
  }
 },
 "nbformat": 4,
 "nbformat_minor": 1
}
