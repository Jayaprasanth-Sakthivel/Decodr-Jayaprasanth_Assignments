{
 "cells": [
  {
   "cell_type": "markdown",
   "metadata": {
    "id": "24kR8DnAEDne"
   },
   "source": [
    "**[Slide No. 47]**\n",
    "\n",
    "1. Create a empty Dictionary and check its Data type."
   ]
  },
  {
   "cell_type": "code",
   "execution_count": 1,
   "metadata": {
    "id": "mHhKHu13oltD"
   },
   "outputs": [
    {
     "data": {
      "text/plain": [
       "dict"
      ]
     },
     "execution_count": 1,
     "metadata": {},
     "output_type": "execute_result"
    }
   ],
   "source": [
    "dictionary={}\n",
    "type(dictionary)"
   ]
  },
  {
   "cell_type": "markdown",
   "metadata": {
    "id": "osWsIyfiENG9"
   },
   "source": [
    "**[Slide No.48]**\n",
    "\n",
    "2.  Write a Python program  to add a key to a dictionary\n",
    "\n",
    "Sample Dictionary : {0: 10, 1: 20}\n",
    "\n",
    "Expected Result : {0: 10, 1: 20, 2: 30}"
   ]
  },
  {
   "cell_type": "code",
   "execution_count": 3,
   "metadata": {
    "id": "pNtCGJmlolLo"
   },
   "outputs": [
    {
     "data": {
      "text/plain": [
       "{0: 10, 1: 20, 2: 30}"
      ]
     },
     "execution_count": 3,
     "metadata": {},
     "output_type": "execute_result"
    }
   ],
   "source": [
    "dict1={0: 10, 1: 20}\n",
    "dict1[2]=30\n",
    "dict1"
   ]
  },
  {
   "cell_type": "markdown",
   "metadata": {
    "id": "Zu0BHrf1Ej1d"
   },
   "source": [
    "**[Slide No. 48]**\n",
    "\n",
    "3.  Write a Python script to concatenate following dictionaries to create a new one.\n",
    "\n",
    "Sample Dictionary :\n",
    "\n",
    "dic1={1:10, 2:20}\n",
    "\n",
    "dic2={3:30, 4:40}\n",
    "\n",
    "dic3={5:50,6:60}\n",
    "\n",
    "Expected Result : {1: 10, 2: 20, 3: 30, 4: 40, 5: 50, 6: 60}"
   ]
  },
  {
   "cell_type": "code",
   "execution_count": 4,
   "metadata": {
    "id": "itk1nmgxomLv"
   },
   "outputs": [
    {
     "data": {
      "text/plain": [
       "{1: 10, 2: 20, 3: 30, 4: 40, 5: 50, 6: 60}"
      ]
     },
     "execution_count": 4,
     "metadata": {},
     "output_type": "execute_result"
    }
   ],
   "source": [
    "dict1={1:10, 2:20}\n",
    "\n",
    "dict2={3:30, 4:40}\n",
    "\n",
    "dict3={5:50,6:60}\n",
    "\n",
    "dict2.update(dict3)\n",
    "\n",
    "dict1.update(dict2)\n",
    "\n",
    "dict1"
   ]
  },
  {
   "cell_type": "markdown",
   "metadata": {
    "id": "veyD5dq5E1N8"
   },
   "source": [
    "**[Slide No. 48]**\n",
    "\n",
    "4. Write a program to create Dictionary and add new item in it."
   ]
  },
  {
   "cell_type": "code",
   "execution_count": 6,
   "metadata": {
    "id": "9-WHcVwAomr6"
   },
   "outputs": [
    {
     "data": {
      "text/plain": [
       "{1: 10, 2: 20}"
      ]
     },
     "execution_count": 6,
     "metadata": {},
     "output_type": "execute_result"
    }
   ],
   "source": [
    "dict1={1:10, 2:20}\n",
    "dict1"
   ]
  },
  {
   "cell_type": "markdown",
   "metadata": {
    "id": "RfJujduxFLpC"
   },
   "source": [
    "**[Slide No. 48]**\n",
    "\n",
    "5. Write a program to create Dictionary and delete the item at 3 index . "
   ]
  },
  {
   "cell_type": "code",
   "execution_count": 7,
   "metadata": {
    "id": "zSUrG-QDonHH"
   },
   "outputs": [
    {
     "data": {
      "text/plain": [
       "{1: 10, 2: 20}"
      ]
     },
     "execution_count": 7,
     "metadata": {},
     "output_type": "execute_result"
    }
   ],
   "source": [
    "dict1={1:10, 2:20, 3:30}\n",
    "del dict1[3]\n",
    "dict1"
   ]
  },
  {
   "cell_type": "markdown",
   "metadata": {
    "id": "zjee54MuFZZ7"
   },
   "source": [
    "**[Slide No. 48]**\n",
    "\n",
    "6. Write a program to create dictionary and delete last item from it."
   ]
  },
  {
   "cell_type": "code",
   "execution_count": 8,
   "metadata": {
    "id": "gVtqF24Wonln"
   },
   "outputs": [
    {
     "data": {
      "text/plain": [
       "{1: 10, 2: 20}"
      ]
     },
     "execution_count": 8,
     "metadata": {},
     "output_type": "execute_result"
    }
   ],
   "source": [
    "dict1={1:10, 2:20, 3:30}\n",
    "dict1.popitem()\n",
    "dict1"
   ]
  },
  {
   "cell_type": "markdown",
   "metadata": {
    "id": "R9W-fDghF002"
   },
   "source": [
    "**[Slide No. 49]**\n",
    "\n",
    "7. Create a dictionary and print the item at 2nd index value."
   ]
  },
  {
   "cell_type": "code",
   "execution_count": 9,
   "metadata": {
    "id": "seEctrJAon-3"
   },
   "outputs": [
    {
     "data": {
      "text/plain": [
       "['a', 'b']"
      ]
     },
     "execution_count": 9,
     "metadata": {},
     "output_type": "execute_result"
    }
   ],
   "source": [
    "dict1={'a':10, 'b':20, 'c':30}\n",
    "list1=list(dict1)\n",
    "list1\n",
    "del list1[2]\n",
    "list1"
   ]
  },
  {
   "cell_type": "markdown",
   "metadata": {
    "id": "Hk9Oaiitvpu0"
   },
   "source": [
    "**[Slide No. 49]**\n",
    "\n",
    "8. Create a Dictionary and change the range of key value ."
   ]
  },
  {
   "cell_type": "code",
   "execution_count": 13,
   "metadata": {
    "id": "jtznb02Oh5rg"
   },
   "outputs": [],
   "source": [
    "dict1={'a':[10], 'b':20, 'c':30}\n"
   ]
  },
  {
   "cell_type": "code",
   "execution_count": null,
   "metadata": {},
   "outputs": [],
   "source": []
  },
  {
   "cell_type": "code",
   "execution_count": null,
   "metadata": {},
   "outputs": [],
   "source": []
  }
 ],
 "metadata": {
  "colab": {
   "collapsed_sections": [],
   "name": "Dictionary_assignment_solution.ipynb",
   "provenance": []
  },
  "kernelspec": {
   "display_name": "Python 3",
   "language": "python",
   "name": "python3"
  },
  "language_info": {
   "codemirror_mode": {
    "name": "ipython",
    "version": 3
   },
   "file_extension": ".py",
   "mimetype": "text/x-python",
   "name": "python",
   "nbconvert_exporter": "python",
   "pygments_lexer": "ipython3",
   "version": "3.8.8"
  }
 },
 "nbformat": 4,
 "nbformat_minor": 1
}
