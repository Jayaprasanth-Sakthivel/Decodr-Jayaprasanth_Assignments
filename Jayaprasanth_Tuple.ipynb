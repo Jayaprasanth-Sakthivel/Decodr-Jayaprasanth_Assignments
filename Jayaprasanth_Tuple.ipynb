{
 "cells": [
  {
   "cell_type": "markdown",
   "metadata": {
    "id": "6BrA-4Y0uj1t"
   },
   "source": [
    "[Slide No- 39]\n",
    "\n",
    "1. Create empty tuple and check its Data type."
   ]
  },
  {
   "cell_type": "code",
   "execution_count": 1,
   "metadata": {
    "colab": {
     "base_uri": "https://localhost:8080/"
    },
    "executionInfo": {
     "elapsed": 12,
     "status": "ok",
     "timestamp": 1624108491100,
     "user": {
      "displayName": "sai darshini",
      "photoUrl": "",
      "userId": "15530230778984429889"
     },
     "user_tz": -330
    },
    "id": "EFzfOlfre9KM",
    "outputId": "3a8d71c1-47e7-42ff-c9c0-64527848dbe3"
   },
   "outputs": [
    {
     "name": "stdout",
     "output_type": "stream",
     "text": [
      "<class 'tuple'>\n"
     ]
    }
   ],
   "source": [
    "tuple1=()\n",
    "print(type(tuple1))\n"
   ]
  },
  {
   "cell_type": "markdown",
   "metadata": {
    "id": "0yF34ew-rA8r"
   },
   "source": [
    "**[Slide No. - 39]**\n",
    "\n",
    "\n",
    "\n",
    "2. Check the output : \n",
    "T1 = (101, \"Peter\", 22)    \n",
    "\n",
    "T2 = (\"Apple\", \"Banana\", \"Orange\") \n",
    "\n",
    "T3 = (10,20,30,40,50)  \n",
    "\n",
    "Print Data type of each tuple."
   ]
  },
  {
   "cell_type": "code",
   "execution_count": 2,
   "metadata": {
    "colab": {
     "base_uri": "https://localhost:8080/"
    },
    "executionInfo": {
     "elapsed": 378,
     "status": "ok",
     "timestamp": 1624108613026,
     "user": {
      "displayName": "sai darshini",
      "photoUrl": "",
      "userId": "15530230778984429889"
     },
     "user_tz": -330
    },
    "id": "osF6Ro0Je9g7",
    "outputId": "00ea7cc9-0123-4f71-8fb5-935a3ef2ed72"
   },
   "outputs": [
    {
     "data": {
      "text/plain": [
       "[tuple, tuple, tuple]"
      ]
     },
     "execution_count": 2,
     "metadata": {},
     "output_type": "execute_result"
    }
   ],
   "source": [
    "T1 = (101, \"Peter\", 22)\n",
    "T2 = (\"Apple\", \"Banana\", \"Orange\")\n",
    "T3 = (10,20,30,40,50)\n",
    "list=[type(T1),type(T2),type(T3)]\n",
    "list\n",
    "\n"
   ]
  },
  {
   "cell_type": "markdown",
   "metadata": {
    "id": "ghTaF2EmrBCJ"
   },
   "source": [
    "**[Slide No. - 40]**\n",
    "\n",
    "3.Write the program to print 0 index item of tuple .\n",
    "\n",
    "tup = (1,2,3,4,5,6,7)\n",
    "\n"
   ]
  },
  {
   "cell_type": "code",
   "execution_count": 3,
   "metadata": {
    "colab": {
     "base_uri": "https://localhost:8080/"
    },
    "executionInfo": {
     "elapsed": 384,
     "status": "ok",
     "timestamp": 1624108864709,
     "user": {
      "displayName": "sai darshini",
      "photoUrl": "",
      "userId": "15530230778984429889"
     },
     "user_tz": -330
    },
    "id": "3jJBczMne-G7",
    "outputId": "ef45b41c-7abd-438b-c414-c19df08b63b3"
   },
   "outputs": [
    {
     "data": {
      "text/plain": [
       "1"
      ]
     },
     "execution_count": 3,
     "metadata": {},
     "output_type": "execute_result"
    }
   ],
   "source": [
    "tup = (1,2,3,4,5,6,7)\n",
    "tup[0]"
   ]
  },
  {
   "cell_type": "markdown",
   "metadata": {
    "id": "aZ_qeqMHrBE2"
   },
   "source": [
    "**[Slide No. - 40]**\n",
    "\n",
    "4.  What is the output of the program  \n",
    "\n",
    "tup = (1,2,3,4,5,6,7)\n",
    "\n",
    "print(tup[8])  "
   ]
  },
  {
   "cell_type": "code",
   "execution_count": 5,
   "metadata": {
    "id": "3LsWZNpJe-sr"
   },
   "outputs": [
    {
     "ename": "IndexError",
     "evalue": "tuple index out of range",
     "output_type": "error",
     "traceback": [
      "\u001b[1;31m---------------------------------------------------------------------------\u001b[0m",
      "\u001b[1;31mIndexError\u001b[0m                                Traceback (most recent call last)",
      "\u001b[1;32m<ipython-input-5-bac1b7ce82f6>\u001b[0m in \u001b[0;36m<module>\u001b[1;34m\u001b[0m\n\u001b[0;32m      1\u001b[0m \u001b[0mtup\u001b[0m \u001b[1;33m=\u001b[0m \u001b[1;33m(\u001b[0m\u001b[1;36m1\u001b[0m\u001b[1;33m,\u001b[0m\u001b[1;36m2\u001b[0m\u001b[1;33m,\u001b[0m\u001b[1;36m3\u001b[0m\u001b[1;33m,\u001b[0m\u001b[1;36m4\u001b[0m\u001b[1;33m,\u001b[0m\u001b[1;36m5\u001b[0m\u001b[1;33m,\u001b[0m\u001b[1;36m6\u001b[0m\u001b[1;33m,\u001b[0m\u001b[1;36m7\u001b[0m\u001b[1;33m)\u001b[0m\u001b[1;33m\u001b[0m\u001b[1;33m\u001b[0m\u001b[0m\n\u001b[1;32m----> 2\u001b[1;33m \u001b[0mprint\u001b[0m\u001b[1;33m(\u001b[0m\u001b[0mtup\u001b[0m\u001b[1;33m[\u001b[0m\u001b[1;36m8\u001b[0m\u001b[1;33m]\u001b[0m\u001b[1;33m)\u001b[0m\u001b[1;33m\u001b[0m\u001b[1;33m\u001b[0m\u001b[0m\n\u001b[0m",
      "\u001b[1;31mIndexError\u001b[0m: tuple index out of range"
     ]
    }
   ],
   "source": [
    "tup = (1,2,3,4,5,6,7)\n",
    "print(tup[8])"
   ]
  },
  {
   "cell_type": "markdown",
   "metadata": {
    "id": "aROdqHSPrBHM"
   },
   "source": [
    "**[Slide No. 40]**\n",
    "\n",
    "5.  Write a program to concate two tuple."
   ]
  },
  {
   "cell_type": "code",
   "execution_count": 6,
   "metadata": {
    "colab": {
     "base_uri": "https://localhost:8080/"
    },
    "executionInfo": {
     "elapsed": 441,
     "status": "ok",
     "timestamp": 1624110326220,
     "user": {
      "displayName": "Ankit Chaudhary",
      "photoUrl": "",
      "userId": "09325546582572869584"
     },
     "user_tz": -330
    },
    "id": "kln1QAOLe_Gr",
    "outputId": "e5a0172b-b88a-4028-883b-f0918edc67fc"
   },
   "outputs": [
    {
     "name": "stdout",
     "output_type": "stream",
     "text": [
      "(1, 2, 3, 'a', 'b', 'c')\n"
     ]
    }
   ],
   "source": [
    "tuple1=(1,2,3)\n",
    "tuple2=('a','b','c')\n",
    "\n",
    "tuple3=tuple1 + tuple2\n",
    "print(tuple3)\n"
   ]
  },
  {
   "cell_type": "markdown",
   "metadata": {
    "id": "C7BdniSyrBJb"
   },
   "source": [
    "**[Slide No. 40]**\n",
    "\n",
    "6 .  Write a program to create the tuple and delete the items?"
   ]
  },
  {
   "cell_type": "code",
   "execution_count": 44,
   "metadata": {
    "colab": {
     "base_uri": "https://localhost:8080/"
    },
    "executionInfo": {
     "elapsed": 462,
     "status": "ok",
     "timestamp": 1624112764934,
     "user": {
      "displayName": "sai darshini",
      "photoUrl": "",
      "userId": "15530230778984429889"
     },
     "user_tz": -330
    },
    "id": "JnBgxEFEe_rL",
    "outputId": "034b8eb3-2791-43d4-d7b5-da8465c40856"
   },
   "outputs": [
    {
     "ename": "TypeError",
     "evalue": "'list' object is not callable",
     "output_type": "error",
     "traceback": [
      "\u001b[1;31m---------------------------------------------------------------------------\u001b[0m",
      "\u001b[1;31mTypeError\u001b[0m                                 Traceback (most recent call last)",
      "\u001b[1;32m<ipython-input-44-ac6161d440f4>\u001b[0m in \u001b[0;36m<module>\u001b[1;34m\u001b[0m\n\u001b[0;32m      1\u001b[0m \u001b[0mthistuple\u001b[0m \u001b[1;33m=\u001b[0m \u001b[1;33m(\u001b[0m\u001b[1;34m\"apple\"\u001b[0m\u001b[1;33m,\u001b[0m \u001b[1;34m\"banana\"\u001b[0m\u001b[1;33m,\u001b[0m \u001b[1;34m\"cherry\"\u001b[0m\u001b[1;33m)\u001b[0m\u001b[1;33m\u001b[0m\u001b[1;33m\u001b[0m\u001b[0m\n\u001b[1;32m----> 2\u001b[1;33m \u001b[0my\u001b[0m \u001b[1;33m=\u001b[0m \u001b[0mlist\u001b[0m\u001b[1;33m(\u001b[0m\u001b[0mthistuple\u001b[0m\u001b[1;33m)\u001b[0m\u001b[1;33m\u001b[0m\u001b[1;33m\u001b[0m\u001b[0m\n\u001b[0m\u001b[0;32m      3\u001b[0m \u001b[0my\u001b[0m\u001b[1;33m.\u001b[0m\u001b[0mremove\u001b[0m\u001b[1;33m(\u001b[0m\u001b[1;34m\"apple\"\u001b[0m\u001b[1;33m)\u001b[0m\u001b[1;33m\u001b[0m\u001b[1;33m\u001b[0m\u001b[0m\n\u001b[0;32m      4\u001b[0m \u001b[0mthistuple\u001b[0m \u001b[1;33m=\u001b[0m \u001b[0mtuple\u001b[0m\u001b[1;33m(\u001b[0m\u001b[0my\u001b[0m\u001b[1;33m)\u001b[0m\u001b[1;33m\u001b[0m\u001b[1;33m\u001b[0m\u001b[0m\n",
      "\u001b[1;31mTypeError\u001b[0m: 'list' object is not callable"
     ]
    }
   ],
   "source": [
    "tup_1 = (\"apple\", \"banana\", \"cherry\")\n"
   ]
  },
  {
   "cell_type": "markdown",
   "metadata": {
    "id": "rbAjLzFyrBU1"
   },
   "source": [
    "**[Slide No. 40]**\n",
    "\n",
    "7. Write a program to delete  2 index value from  tuples?"
   ]
  },
  {
   "cell_type": "code",
   "execution_count": 41,
   "metadata": {
    "colab": {
     "base_uri": "https://localhost:8080/"
    },
    "executionInfo": {
     "elapsed": 453,
     "status": "ok",
     "timestamp": 1624112798617,
     "user": {
      "displayName": "sai darshini",
      "photoUrl": "",
      "userId": "15530230778984429889"
     },
     "user_tz": -330
    },
    "id": "cckHUdKnfAL7",
    "outputId": "64469e58-c0b3-4efd-c881-09da4b99d1d4"
   },
   "outputs": [
    {
     "ename": "TypeError",
     "evalue": "'list' object is not callable",
     "output_type": "error",
     "traceback": [
      "\u001b[1;31m---------------------------------------------------------------------------\u001b[0m",
      "\u001b[1;31mTypeError\u001b[0m                                 Traceback (most recent call last)",
      "\u001b[1;32m<ipython-input-41-c7fa60c126e0>\u001b[0m in \u001b[0;36m<module>\u001b[1;34m\u001b[0m\n\u001b[0;32m      1\u001b[0m \u001b[0mTuple\u001b[0m \u001b[1;33m=\u001b[0m \u001b[1;33m(\u001b[0m\u001b[1;36m1\u001b[0m\u001b[1;33m,\u001b[0m\u001b[1;36m2\u001b[0m\u001b[1;33m,\u001b[0m\u001b[1;36m3\u001b[0m\u001b[1;33m,\u001b[0m\u001b[1;36m4\u001b[0m\u001b[1;33m,\u001b[0m\u001b[1;36m5\u001b[0m\u001b[1;33m)\u001b[0m\u001b[1;33m\u001b[0m\u001b[1;33m\u001b[0m\u001b[0m\n\u001b[1;32m----> 2\u001b[1;33m \u001b[0mlist1\u001b[0m \u001b[1;33m=\u001b[0m \u001b[0mlist\u001b[0m\u001b[1;33m(\u001b[0m\u001b[0mTuple\u001b[0m\u001b[1;33m)\u001b[0m\u001b[1;33m\u001b[0m\u001b[1;33m\u001b[0m\u001b[0m\n\u001b[0m\u001b[0;32m      3\u001b[0m \u001b[1;32mdel\u001b[0m \u001b[0mlist1\u001b[0m\u001b[1;33m[\u001b[0m\u001b[1;36m2\u001b[0m\u001b[1;33m:\u001b[0m\u001b[1;36m4\u001b[0m\u001b[1;33m]\u001b[0m\u001b[1;33m\u001b[0m\u001b[1;33m\u001b[0m\u001b[0m\n\u001b[0;32m      4\u001b[0m \u001b[1;33m\u001b[0m\u001b[0m\n\u001b[0;32m      5\u001b[0m \u001b[0mFinal_tuple\u001b[0m \u001b[1;33m=\u001b[0m \u001b[0mtuple\u001b[0m\u001b[1;33m(\u001b[0m\u001b[0mlist1\u001b[0m\u001b[1;33m)\u001b[0m\u001b[1;33m\u001b[0m\u001b[1;33m\u001b[0m\u001b[0m\n",
      "\u001b[1;31mTypeError\u001b[0m: 'list' object is not callable"
     ]
    }
   ],
   "source": [
    "tuple1=(1,2,3)\n",
    "list1=list(tuple1)\n",
    "list1.pop(2)\n",
    "tuple2=tuple(list1)\n",
    "print(tuple2)"
   ]
  },
  {
   "cell_type": "markdown",
   "metadata": {
    "id": "EmyErnscvJyV"
   },
   "source": [
    "**[Slide No. 40]**\n",
    "\n",
    "8. Check the output of \n",
    "tuple1 = (1, 2, 3, 4, 5)    \n",
    "\n",
    "using negative indexing print last two item of tuple\n",
    "\n",
    "using negative indexing print '4' from the tuple\n",
    "\n",
    "using negative indexing print all items of the list \n"
   ]
  },
  {
   "cell_type": "code",
   "execution_count": 17,
   "metadata": {
    "colab": {
     "base_uri": "https://localhost:8080/"
    },
    "executionInfo": {
     "elapsed": 477,
     "status": "ok",
     "timestamp": 1624113429494,
     "user": {
      "displayName": "sai darshini",
      "photoUrl": "",
      "userId": "15530230778984429889"
     },
     "user_tz": -330
    },
    "id": "IkQiPA4neVHN",
    "outputId": "7f627081-2788-4b9b-c672-f99e1d1b187a"
   },
   "outputs": [
    {
     "name": "stdout",
     "output_type": "stream",
     "text": [
      "([4, 5], 4, [1, 2, 3, 4, 5])\n"
     ]
    }
   ],
   "source": [
    "tuple1 = (1, 2, 3, 4, 5)\n",
    "list1=list(tuple1)\n",
    "a=list1[-2:]\n",
    "b=list1[-2]\n",
    "c=list1[-5:]\n",
    "list2=[a,b,c]\n",
    "tuple2=tuple(list2)\n",
    "print(tuple2)\n",
    "\n"
   ]
  },
  {
   "cell_type": "code",
   "execution_count": null,
   "metadata": {
    "id": "2vn9J1vQaGNT"
   },
   "outputs": [],
   "source": []
  }
 ],
 "metadata": {
  "colab": {
   "collapsed_sections": [],
   "name": "Tuple.ipynb",
   "provenance": []
  },
  "kernelspec": {
   "display_name": "Python 3",
   "language": "python",
   "name": "python3"
  },
  "language_info": {
   "codemirror_mode": {
    "name": "ipython",
    "version": 3
   },
   "file_extension": ".py",
   "mimetype": "text/x-python",
   "name": "python",
   "nbconvert_exporter": "python",
   "pygments_lexer": "ipython3",
   "version": "3.8.8"
  }
 },
 "nbformat": 4,
 "nbformat_minor": 1
}
